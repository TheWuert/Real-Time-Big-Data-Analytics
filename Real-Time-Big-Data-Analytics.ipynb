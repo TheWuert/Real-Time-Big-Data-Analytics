{
 "cells": [
  {
   "cell_type": "markdown",
   "id": "90d466c9",
   "metadata": {},
   "source": [
    "## Christian Huerta\n",
    "Real-Time Big Data Analytics<br>\n",
    "Project: Marlins vs. Dodgers Game Highlights (4/29/25)<br>"
   ]
  },
  {
   "cell_type": "markdown",
   "id": "3e86cc77",
   "metadata": {},
   "source": [
    "### Installation: "
   ]
  },
  {
   "cell_type": "code",
   "execution_count": 14,
   "id": "e8cc9db0",
   "metadata": {},
   "outputs": [],
   "source": [
    "# pip install youtube-transcript-api textblob"
   ]
  },
  {
   "cell_type": "markdown",
   "id": "f3fdabf0",
   "metadata": {},
   "source": [
    "### Import Libaries:"
   ]
  },
  {
   "cell_type": "code",
   "execution_count": 15,
   "id": "56adcff9",
   "metadata": {},
   "outputs": [],
   "source": [
    "from youtube_transcript_api import YouTubeTranscriptApi\n",
    "from textblob import TextBlob\n",
    "import matplotlib.pyplot as plt"
   ]
  },
  {
   "cell_type": "markdown",
   "id": "865f44e3",
   "metadata": {},
   "source": [
    "### URL YouTube Video ID:"
   ]
  },
  {
   "cell_type": "code",
   "execution_count": null,
   "id": "5440fde9",
   "metadata": {},
   "outputs": [],
   "source": [
    "# URL: https://www.youtube.com/watch?v=aeKt4VHi7XM&ab_channel=MLB\n",
    "video_id = \"aeKt4VHi7XM&ab_channel=MLB\""
   ]
  },
  {
   "cell_type": "markdown",
   "id": "4760478f",
   "metadata": {},
   "source": [
    "### Extracting the Transcript:"
   ]
  },
  {
   "cell_type": "code",
   "execution_count": null,
   "id": "55efc192",
   "metadata": {},
   "outputs": [],
   "source": [
    "# Fetch transcript\n",
    "transcript = YouTubeTranscriptApi.get_transcript(video_id)"
   ]
  },
  {
   "cell_type": "markdown",
   "id": "d7948942",
   "metadata": {},
   "source": [
    "### Joining Transcript Segments into a Single Text Block:"
   ]
  },
  {
   "cell_type": "code",
   "execution_count": 12,
   "id": "f2ace806",
   "metadata": {
    "scrolled": true
   },
   "outputs": [
    {
     "name": "stdout",
     "output_type": "stream",
     "text": [
      "Dodger bullpen. They throw more innings than any bullpen in baseball. They deserve a break. They're not gonna get one here tonight. It's a bullpen game, bullpen game. And remember we had one similar to this against the Cubs and it didn't go well, Jack Dryer get the ball tonight. He has started in his baseball life before Xavier Edwards will lead things off. Xavier Edwards was one for five game one last night that is lined towards the corner in right field that's going to fall for a base hit. It's going to get past Hernandez and roll all the way to the wall. Edwards can really run on his way to third. They'll stop him there with a leadoff triple to start the ball game. Hernandez plays right field in this stadium. A little surprised how he played that ball. Augustin ramirez strike three painted a fastball on the inside corner with all don't live. Here's Dan Myers who came off the bench last night and went two for two hit his first career grand slam and there's a swing of a line drive to \n"
     ]
    }
   ],
   "source": [
    "# Join all text segments\n",
    "video_text = \" \".join([segment['text'] for segment in transcript])\n",
    "print(video_text[:1000])"
   ]
  },
  {
   "cell_type": "markdown",
   "id": "271d44f2",
   "metadata": {},
   "source": [
    "### Performing Sentiment Analysis with TextBlob:\n",
    "\n",
    "This block of code uses `TextBlob` to analyze the **overall sentiment** of the transcript text. \n",
    "\n",
    "- TextBlob(video_text) creates a TextBlob object, which allows for various text processing operations.\n",
    "\n",
    "- blob.sentiment returns a tuple with two values:\n",
    "\n",
    "- Polarity: a value between -1.0 and 1.0 indicating sentiment direction.\n",
    "\n",
    "  -  '> 0 → positive sentiment\n",
    "\n",
    "  -  < 0 → negative sentiment\n",
    "\n",
    "  - ≈ 0 → neutral sentiment\n",
    "\n",
    "- Subjectivity: a value between 0.0 and 1.0 showing how opinion-based the text is.\n",
    "\n",
    "  - 0.0 → very objective (factual)\n",
    "\n",
    "  - 1.0 → very subjective (personal opinions)\n",
    "\n",
    "These values help us understand whether the speaker expresses strong emotions or remains neutral/factual in tone."
   ]
  },
  {
   "cell_type": "markdown",
   "id": "b98c4879",
   "metadata": {},
   "source": [
    "### Performing Sentiment Analysis with TextBlob:"
   ]
  },
  {
   "cell_type": "code",
   "execution_count": 13,
   "id": "f93d7c04",
   "metadata": {},
   "outputs": [
    {
     "name": "stdout",
     "output_type": "stream",
     "text": [
      "Sentiment Polarity: 0.029379169849758066\n",
      "Sentiment Subjectivity: 0.3711311858076565\n"
     ]
    }
   ],
   "source": [
    "blob = TextBlob(video_text)\n",
    "print(\"Sentiment Polarity:\", blob.sentiment.polarity)\n",
    "print(\"Sentiment Subjectivity:\", blob.sentiment.subjectivity)"
   ]
  },
  {
   "cell_type": "markdown",
   "id": "5728157c",
   "metadata": {},
   "source": [
    "## 🎯 Sentiment Analysis Interpretation:\n",
    "\n",
    "**Video Title:** *Marlins vs. Dodgers Game Highlights (4/29/25)*  \n",
    "**Source:** [MLB YouTube Channel](https://www.youtube.com/watch?v=aeKt4VHi7XM)\n",
    "\n",
    "---\n",
    "\n",
    "### 📊 Result Recap\n",
    "- **Sentiment Polarity:** `0.0294`  \n",
    "- **Sentiment Subjectivity:** `0.3711`\n",
    "\n",
    "---\n",
    "\n",
    "### ⚖️ Polarity Interpretation\n",
    "- The **polarity score** is slightly above **zero**, indicating a **mildly positive** tone.\n",
    "- This suggests the commentary likely highlights **positive aspects** of the game, such as standout performances or exciting moments, without significant negative criticism.\n",
    "\n",
    "---\n",
    "\n",
    "### 🧠 Subjectivity Interpretation\n",
    "- The **subjectivity score** of approximately `0.37` implies the content is **more objective than subjective**.\n",
    "- This is typical for **sports highlight videos**, which focus on factual play-by-play coverage with occasional commentary.\n",
    "\n",
    "---\n",
    "\n",
    "### 🧾 Conclusion\n",
    "- The video's tone is **informative and neutral**, emphasizing the game's events without strong emotional language.\n",
    "- The sentiment reflects a **balanced and factual** presentation, suitable for viewers seeking a straightforward recap of the game's highlights.\n"
   ]
  }
 ],
 "metadata": {
  "kernelspec": {
   "display_name": "Python 3 (ipykernel)",
   "language": "python",
   "name": "python3"
  },
  "language_info": {
   "codemirror_mode": {
    "name": "ipython",
    "version": 3
   },
   "file_extension": ".py",
   "mimetype": "text/x-python",
   "name": "python",
   "nbconvert_exporter": "python",
   "pygments_lexer": "ipython3",
   "version": "3.11.7"
  }
 },
 "nbformat": 4,
 "nbformat_minor": 5
}
